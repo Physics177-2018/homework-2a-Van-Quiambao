{
 "cells": [
  {
   "cell_type": "markdown",
   "metadata": {},
   "source": [
    "# Homework 2a: Math Basics in Python\n",
    "Physics 177, Spring 2018  \n",
    "**Due:** Thursday, April 12 \n",
    "\n",
    "*Van Quiambao*"
   ]
  },
  {
   "cell_type": "markdown",
   "metadata": {},
   "source": [
    "In this homework we're going to get used to some of the basic mathematical manipulations that we'll be using in our class. Remember that this is due in two days, and that you should leave time for troubleshooting."
   ]
  },
  {
   "cell_type": "markdown",
   "metadata": {},
   "source": [
    "## 1. Loading Packages\n",
    "\n",
    "In our code, we will be loading **packages**, which the textbook defines as \"collections of related useful things\" (Newman, Section 2.2.5). Sometimes these \"useful things\" are grouped into sub-packages called **modules**. There are different ways to **import** a package or module (see, e.g. [this Stack Overflow answer](https://stackoverflow.com/a/710603)). In this example we'll go over them, then highlight the one we're going to use. \n",
    "\n",
    "We will start by exploring the `log` and `exp` functions that are functions in the standard `math` module. Explore the following code. "
   ]
  },
  {
   "cell_type": "markdown",
   "metadata": {},
   "source": [
    "## 1.a) using `import` \n",
    "\n",
    "One way to load a package is to simply use `import`. In order to use the \"useful things\" in a package, you need to refer to those \"useful things\" as properties (*methods*) of the package. For example, if we did:\n",
    "\n",
    "```python\n",
    "import package_name\n",
    "```\n",
    "\n",
    "And `package_name` defines a `useful_function()`, then in order to use this useful function we need to call it as:\n",
    "\n",
    "```python\n",
    "package_name.useful_function()\n",
    "```\n",
    "\n",
    "Try running the following code to see how this works, then answer the question below."
   ]
  },
  {
   "cell_type": "code",
   "execution_count": 1,
   "metadata": {},
   "outputs": [],
   "source": [
    "# Import the math package\n",
    "import math"
   ]
  },
  {
   "cell_type": "code",
   "execution_count": 2,
   "metadata": {
    "scrolled": true
   },
   "outputs": [
    {
     "ename": "NameError",
     "evalue": "name 'exp' is not defined",
     "output_type": "error",
     "traceback": [
      "\u001b[1;31m---------------------------------------------------------------------------\u001b[0m",
      "\u001b[1;31mNameError\u001b[0m                                 Traceback (most recent call last)",
      "\u001b[1;32m<ipython-input-2-7dddcb11a18f>\u001b[0m in \u001b[0;36m<module>\u001b[1;34m()\u001b[0m\n\u001b[0;32m      1\u001b[0m \u001b[1;31m# We know that math defines an exponential function, exp.\u001b[0m\u001b[1;33m\u001b[0m\u001b[1;33m\u001b[0m\u001b[0m\n\u001b[0;32m      2\u001b[0m \u001b[1;31m# This doesn't work, though:\u001b[0m\u001b[1;33m\u001b[0m\u001b[1;33m\u001b[0m\u001b[0m\n\u001b[1;32m----> 3\u001b[1;33m \u001b[0mexp\u001b[0m\u001b[1;33m(\u001b[0m\u001b[1;36m1.\u001b[0m\u001b[1;33m)\u001b[0m\u001b[1;33m\u001b[0m\u001b[0m\n\u001b[0m\u001b[0;32m      4\u001b[0m \u001b[1;33m\u001b[0m\u001b[0m\n\u001b[0;32m      5\u001b[0m \u001b[1;31m# You should get a NameError because exp is not defined!\u001b[0m\u001b[1;33m\u001b[0m\u001b[1;33m\u001b[0m\u001b[0m\n",
      "\u001b[1;31mNameError\u001b[0m: name 'exp' is not defined"
     ]
    }
   ],
   "source": [
    "# We know that math defines an exponential function, exp. \n",
    "# This doesn't work, though:\n",
    "exp(1.)\n",
    "\n",
    "# You should get a NameError because exp is not defined!"
   ]
  },
  {
   "cell_type": "code",
   "execution_count": 3,
   "metadata": {},
   "outputs": [
    {
     "data": {
      "text/plain": [
       "2.718281828459045"
      ]
     },
     "execution_count": 3,
     "metadata": {},
     "output_type": "execute_result"
    }
   ],
   "source": [
    "# We need to refer to exp as something that is attached to the math package:\n",
    "math.exp(1.)"
   ]
  },
  {
   "cell_type": "markdown",
   "metadata": {},
   "source": [
    "**Question**: In your own words, why is it useful for Python to force you to keep referring to the package name in addition to the function name? (*Hint*: what could go wrong if you have to import multiple packages?)\n",
    "\n",
    "**Answer**: *fill this in*"
   ]
  },
  {
   "cell_type": "markdown",
   "metadata": {},
   "source": [
    "## 1.b) using  `from` and `import`\n",
    "\n",
    "There's a more convenient way to import individual \"useful things\" from a package:\n",
    "\n",
    "```python\n",
    "from package_name import useful_function\n",
    "```\n",
    "\n",
    "This allows us to call `useful_function()` without repeatedy having to type `package_name` before it. Try the following code. "
   ]
  },
  {
   "cell_type": "code",
   "execution_count": 5,
   "metadata": {},
   "outputs": [
    {
     "data": {
      "text/plain": [
       "1.0"
      ]
     },
     "execution_count": 5,
     "metadata": {},
     "output_type": "execute_result"
    }
   ],
   "source": [
    "# Import just the sin function from the math package\n",
    "from math import pi\n",
    "from math import sin\n",
    "\n",
    "sin(pi/2)"
   ]
  },
  {
   "cell_type": "markdown",
   "metadata": {},
   "source": [
    "**Question**: Now do the following in the next cell: import the `log` function from the `math` package. Evaluate `log(10)`. Does the log function refer to $\\log_{10}$ or $\\ln$?\n",
    "\n",
    "**Answer**: it uses $\\ln$ because the answer to log(10) is 1."
   ]
  },
  {
   "cell_type": "code",
   "execution_count": 6,
   "metadata": {},
   "outputs": [
    {
     "data": {
      "text/plain": [
       "2.302585092994046"
      ]
     },
     "execution_count": 6,
     "metadata": {},
     "output_type": "execute_result"
    }
   ],
   "source": [
    "from math import log\n",
    "\n",
    "log(10)"
   ]
  },
  {
   "cell_type": "markdown",
   "metadata": {},
   "source": [
    "## 1.c) using `import` ... `as`\n",
    "\n",
    "The way that we will be importing most of our packages is a third strategy:\n",
    "\n",
    "```python\n",
    "import package_name as shorthand\n",
    "```\n",
    "\n",
    "Here `shorthand` is some simple variable name that we get to choose. (For those familiar with object-oriented programming: the package is being treated as an object and its \"useful things\" are methods of that object. This import method is giving a convenient name to the object.)\n",
    "\n",
    "We can then call as `useful_function` defined in `package_name` as:\n",
    "\n",
    "```python\n",
    "shorthand.useful_function()\n",
    "```\n",
    "\n",
    "In this problem, we will call the very useful package `numpy` and use the common shorthand `np`. \n",
    "\n",
    "You will first have to install the `numpy` package for your Python distribution. This means you need to download files in a way that your Python distribution knows where to look for them---this is *before* you ask a Jupyter notebook to look for a particular package. Here is some information to do this. It doesn't matter how you get there, just make sure you get `numpy` installed. \n",
    "\n",
    "* How to install `numpy` in Anaconada: [instructions](https://anaconda.org/anaconda/numpy).\n",
    "* How to install `numpy` (and friends) using `pip`: [instructions](https://www.scipy.org/install.html)\n",
    "* More on `pip`: [YouTube](https://www.youtube.com/watch?v=jnpC_Ib_lbc), Python 3 Basics Tutorials\n",
    "* Comparing ways to install packages (via APMonitor): [YouTube](https://www.youtube.com/watch?v=Z_Kxg-EYvxM)\n",
    "\n",
    "Now the following should work:"
   ]
  },
  {
   "cell_type": "code",
   "execution_count": 26,
   "metadata": {},
   "outputs": [
    {
     "data": {
      "text/plain": [
       "1.0"
      ]
     },
     "execution_count": 26,
     "metadata": {},
     "output_type": "execute_result"
    }
   ],
   "source": [
    "import numpy as np\n",
    "from numpy import pi\n",
    "np.sin(pi/2)"
   ]
  },
  {
   "cell_type": "markdown",
   "metadata": {},
   "source": [
    "**Question**: in the cell below, use `numpy` to evaluate $\\cos^{-1}(-1)$."
   ]
  },
  {
   "cell_type": "code",
   "execution_count": 6,
   "metadata": {},
   "outputs": [
    {
     "data": {
      "text/plain": [
       "1.8508157176809255"
      ]
     },
     "execution_count": 6,
     "metadata": {},
     "output_type": "execute_result"
    }
   ],
   "source": [
    "1/(np.cos(-1))"
   ]
  },
  {
   "cell_type": "markdown",
   "metadata": {},
   "source": [
    "## 2. Defining functions\n",
    "\n",
    "Here's an example of a user-defined function:"
   ]
  },
  {
   "cell_type": "code",
   "execution_count": 29,
   "metadata": {},
   "outputs": [],
   "source": [
    "import numpy as np\n",
    "\n",
    "def F_theta(mass_in_kg, theta_in_rad):\n",
    "    \"\"\"Simple Harmonic Motion. Gives force in theta direction in units of Newtons.\"\"\"\n",
    "    g = 10.0 # m/s^2\n",
    "    return -mass*g*np.sin(theta)"
   ]
  },
  {
   "cell_type": "markdown",
   "metadata": {},
   "source": [
    "The line with the triple quotes is called a **docstring**. It's good practice to write these whenever you define a complicated function. Run the cell below to see how it works.\n",
    "\n",
    "**More reading** (for those inclined): [Python for Beginners], (http://www.pythonforbeginners.com/basics/python-docstrings), [PEP 257 -- docstring conventions](https://www.python.org/dev/peps/pep-0257/)."
   ]
  },
  {
   "cell_type": "code",
   "execution_count": 9,
   "metadata": {},
   "outputs": [
    {
     "name": "stdout",
     "output_type": "stream",
     "text": [
      "Help on function F_theta in module __main__:\n",
      "\n",
      "F_theta(mass_in_kg, theta_in_rad)\n",
      "    Simple Harmonic Motion. Gives force in theta direction in units of Newtons.\n",
      "\n"
     ]
    }
   ],
   "source": [
    "# The line with triple quotes is called a docstring\n",
    "help(F_theta)"
   ]
  },
  {
   "cell_type": "markdown",
   "metadata": {},
   "source": [
    "**Question** Now write a function that gives the energy of the following simple pendulum as a function of the mass, length, angular frequency, and angular displacement. Test it out for the following values:\n",
    "\n",
    "mass = 10 kg  \n",
    "length = 1 meter  \n",
    "angular frequency = .1 radian / second  \n",
    "angular displacement: .1 radian\n",
    "\n",
    "![Image from Computational Physics, Giordano and Nakanishi, Fig. 3.1](HW2a_fig1.png)\n"
   ]
  },
  {
   "cell_type": "code",
   "execution_count": 42,
   "metadata": {},
   "outputs": [],
   "source": [
    "import numpy as np\n",
    "\n",
    "def E_theta(mass, length, angular_frequency, angular_displacement):\n",
    "    \n",
    "    g = 10 # m/s^2\n",
    "    \n",
    "    return .5*mass*g*length*(1-np.cos(angular_displacement)) + .5*mass*g*(angular_frequency*angular_frequency)"
   ]
  },
  {
   "cell_type": "code",
   "execution_count": 43,
   "metadata": {},
   "outputs": [
    {
     "data": {
      "text/plain": [
       "0.7497917360987091"
      ]
     },
     "execution_count": 43,
     "metadata": {},
     "output_type": "execute_result"
    }
   ],
   "source": [
    "E_theta(10, 1, .1, .1)"
   ]
  },
  {
   "cell_type": "markdown",
   "metadata": {},
   "source": [
    "This is the total Energy. The left side of the equation is the potential energy and the right side of the equation is the kinetic energy. "
   ]
  },
  {
   "cell_type": "markdown",
   "metadata": {},
   "source": [
    "## X. Extra Credit: attend the colloquium, post a picture\n",
    "\n",
    "This week's Physics & Astronomy Colloquium will be **[David Reitze](https://en.wikipedia.org/wiki/David_Reitze)**. He's famous for [this](https://www.youtube.com/watch?v=an-9JHTpiLA). For what it's worth, the LIGO collaboration used a [Jupyter notebook](https://losc.ligo.org/s/events/GW150914/GW150914_tutorial.html) for their data analysis.\n",
    "\n",
    "Details for the talk: 3:40 pm in Engineering Bldg, Unit 2, Room 138 \n",
    "\n",
    "For extra credit, attend the talk and post a selfie of you in the colloquium room with David Reitze somewhere in the background. Double extra credit if get a personal selfie with him after the talk. You'll have to figure out how to post images in a Jupyter notebook, you may find hints in this notebook."
   ]
  },
  {
   "cell_type": "markdown",
   "metadata": {},
   "source": [
    "## Reading\n",
    "\n",
    "Over the next two weeks, please read (we'll be going over it briskly in class)\n",
    "* Newman, chapter 5: Integrals and Derivatives\n",
    "\n",
    "If you need a refresher on Python, you may want to read some of the following:\n",
    "* Newman, chapter 2 reviews the basics of Python programming.\n"
   ]
  }
 ],
 "metadata": {
  "kernelspec": {
   "display_name": "Python 3",
   "language": "python",
   "name": "python3"
  },
  "language_info": {
   "codemirror_mode": {
    "name": "ipython",
    "version": 3
   },
   "file_extension": ".py",
   "mimetype": "text/x-python",
   "name": "python",
   "nbconvert_exporter": "python",
   "pygments_lexer": "ipython3",
   "version": "3.6.4"
  }
 },
 "nbformat": 4,
 "nbformat_minor": 2
}
